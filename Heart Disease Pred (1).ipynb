{
 "cells": [
  {
   "cell_type": "code",
   "execution_count": 2,
   "metadata": {},
   "outputs": [],
   "source": [
    "import numpy as np\n",
    "import pandas as pd\n",
    "import matplotlib.pyplot as plt\n",
    "from matplotlib import rcParams\n",
    "from matplotlib.cm import rainbow\n",
    "%matplotlib inline\n",
    "import warnings\n",
    "warnings.filterwarnings('ignore')"
   ]
  },
  {
   "cell_type": "markdown",
   "metadata": {},
   "source": [
    "# 1. Dataset Description\n",
    "\n",
    "The classification goal is to predict whether the patient has 10-year risk of future coronary heart disease (CHD).The dataset provides the patients’ information. It includes over 5209 records and 18 attributes. Variables Each attribute is a potential risk factor. There are demographic, behavioral and medical risk factors.\n",
    "\n",
    "Attributes:\n",
    "Demographic:\n",
    "Sex: male or female(Nominal)\n",
    "Age: Age of the patient;(Continuous)\n",
    "\n",
    "Behavioral:\n",
    "Current Smoker: whether or not the patient is a current smoker (Nominal)\n",
    "\n",
    "Information on medical history:\n",
    "AgeCHDdiag: Pateint age at the time of CHD Diagnosis (Continues)\n",
    "Death Cause: Pateint History of Death \n",
    "\n",
    "\n",
    "Information on current medical condition:\n",
    "Cholestrol: total cholesterol level (Continuous)\n",
    "Sytolic: systolic blood pressure (Continuous)\n",
    "Diastolic: diastolic blood pressure (Continuous)\n",
    "Chol_Status\n",
    "MRW:Metropolitan Relative Weight,The obesity index chosen to characterize the population was Metropolitan Relative\n",
    "Weight (MRW), or percentage of desirable weight (the ratio of actual weight to desirable weight x 100).(Continues)\n",
    "Weight_Status:Nominal\n",
    "\n",
    "BP_Status: heart rate (Nominal)\n"
   ]
  },
  {
   "cell_type": "code",
   "execution_count": 3,
   "metadata": {},
   "outputs": [],
   "source": [
    "df=pd.read_csv(\"C:/Users/ASUS/Desktop/Heart_Data.csv\")"
   ]
  },
  {
   "cell_type": "code",
   "execution_count": 4,
   "metadata": {},
   "outputs": [
    {
     "data": {
      "text/html": [
       "<div>\n",
       "<style scoped>\n",
       "    .dataframe tbody tr th:only-of-type {\n",
       "        vertical-align: middle;\n",
       "    }\n",
       "\n",
       "    .dataframe tbody tr th {\n",
       "        vertical-align: top;\n",
       "    }\n",
       "\n",
       "    .dataframe thead th {\n",
       "        text-align: right;\n",
       "    }\n",
       "</style>\n",
       "<table border=\"1\" class=\"dataframe\">\n",
       "  <thead>\n",
       "    <tr style=\"text-align: right;\">\n",
       "      <th></th>\n",
       "      <th>Unnamed: 0</th>\n",
       "      <th>Status</th>\n",
       "      <th>DeathCause</th>\n",
       "      <th>AgeCHDdiag</th>\n",
       "      <th>Sex</th>\n",
       "      <th>AgeAtStart</th>\n",
       "      <th>Height</th>\n",
       "      <th>Weight</th>\n",
       "      <th>Diastolic</th>\n",
       "      <th>Systolic</th>\n",
       "      <th>MRW</th>\n",
       "      <th>Smoking</th>\n",
       "      <th>AgeAtDeath</th>\n",
       "      <th>Cholesterol</th>\n",
       "      <th>Chol_Status</th>\n",
       "      <th>BP_Status</th>\n",
       "      <th>Weight_Status</th>\n",
       "      <th>Smoking_Status</th>\n",
       "    </tr>\n",
       "  </thead>\n",
       "  <tbody>\n",
       "    <tr>\n",
       "      <th>0</th>\n",
       "      <td>1</td>\n",
       "      <td>Dead</td>\n",
       "      <td>Other</td>\n",
       "      <td>NaN</td>\n",
       "      <td>Female</td>\n",
       "      <td>29</td>\n",
       "      <td>62.50</td>\n",
       "      <td>140.0</td>\n",
       "      <td>78</td>\n",
       "      <td>124</td>\n",
       "      <td>121.0</td>\n",
       "      <td>0.0</td>\n",
       "      <td>55.0</td>\n",
       "      <td>NaN</td>\n",
       "      <td>NaN</td>\n",
       "      <td>Normal</td>\n",
       "      <td>Overweight</td>\n",
       "      <td>Non-smoker</td>\n",
       "    </tr>\n",
       "    <tr>\n",
       "      <th>1</th>\n",
       "      <td>2</td>\n",
       "      <td>Dead</td>\n",
       "      <td>Cancer</td>\n",
       "      <td>NaN</td>\n",
       "      <td>Female</td>\n",
       "      <td>41</td>\n",
       "      <td>59.75</td>\n",
       "      <td>194.0</td>\n",
       "      <td>92</td>\n",
       "      <td>144</td>\n",
       "      <td>183.0</td>\n",
       "      <td>0.0</td>\n",
       "      <td>57.0</td>\n",
       "      <td>181.0</td>\n",
       "      <td>Desirable</td>\n",
       "      <td>High</td>\n",
       "      <td>Overweight</td>\n",
       "      <td>Non-smoker</td>\n",
       "    </tr>\n",
       "    <tr>\n",
       "      <th>2</th>\n",
       "      <td>3</td>\n",
       "      <td>Alive</td>\n",
       "      <td>NaN</td>\n",
       "      <td>NaN</td>\n",
       "      <td>Female</td>\n",
       "      <td>57</td>\n",
       "      <td>62.25</td>\n",
       "      <td>132.0</td>\n",
       "      <td>90</td>\n",
       "      <td>170</td>\n",
       "      <td>114.0</td>\n",
       "      <td>10.0</td>\n",
       "      <td>NaN</td>\n",
       "      <td>250.0</td>\n",
       "      <td>High</td>\n",
       "      <td>High</td>\n",
       "      <td>Overweight</td>\n",
       "      <td>Moderate (6-15)</td>\n",
       "    </tr>\n",
       "    <tr>\n",
       "      <th>3</th>\n",
       "      <td>4</td>\n",
       "      <td>Alive</td>\n",
       "      <td>NaN</td>\n",
       "      <td>NaN</td>\n",
       "      <td>Female</td>\n",
       "      <td>39</td>\n",
       "      <td>65.75</td>\n",
       "      <td>158.0</td>\n",
       "      <td>80</td>\n",
       "      <td>128</td>\n",
       "      <td>123.0</td>\n",
       "      <td>0.0</td>\n",
       "      <td>NaN</td>\n",
       "      <td>242.0</td>\n",
       "      <td>High</td>\n",
       "      <td>Normal</td>\n",
       "      <td>Overweight</td>\n",
       "      <td>Non-smoker</td>\n",
       "    </tr>\n",
       "    <tr>\n",
       "      <th>4</th>\n",
       "      <td>5</td>\n",
       "      <td>Alive</td>\n",
       "      <td>NaN</td>\n",
       "      <td>NaN</td>\n",
       "      <td>Male</td>\n",
       "      <td>42</td>\n",
       "      <td>66.00</td>\n",
       "      <td>156.0</td>\n",
       "      <td>76</td>\n",
       "      <td>110</td>\n",
       "      <td>116.0</td>\n",
       "      <td>20.0</td>\n",
       "      <td>NaN</td>\n",
       "      <td>281.0</td>\n",
       "      <td>High</td>\n",
       "      <td>Optimal</td>\n",
       "      <td>Overweight</td>\n",
       "      <td>Heavy (16-25)</td>\n",
       "    </tr>\n",
       "  </tbody>\n",
       "</table>\n",
       "</div>"
      ],
      "text/plain": [
       "   Unnamed: 0 Status DeathCause  AgeCHDdiag     Sex  AgeAtStart  Height  \\\n",
       "0           1   Dead      Other         NaN  Female          29   62.50   \n",
       "1           2   Dead     Cancer         NaN  Female          41   59.75   \n",
       "2           3  Alive        NaN         NaN  Female          57   62.25   \n",
       "3           4  Alive        NaN         NaN  Female          39   65.75   \n",
       "4           5  Alive        NaN         NaN    Male          42   66.00   \n",
       "\n",
       "   Weight  Diastolic  Systolic    MRW  Smoking  AgeAtDeath  Cholesterol  \\\n",
       "0   140.0         78       124  121.0      0.0        55.0          NaN   \n",
       "1   194.0         92       144  183.0      0.0        57.0        181.0   \n",
       "2   132.0         90       170  114.0     10.0         NaN        250.0   \n",
       "3   158.0         80       128  123.0      0.0         NaN        242.0   \n",
       "4   156.0         76       110  116.0     20.0         NaN        281.0   \n",
       "\n",
       "  Chol_Status BP_Status Weight_Status   Smoking_Status  \n",
       "0         NaN    Normal    Overweight       Non-smoker  \n",
       "1   Desirable      High    Overweight       Non-smoker  \n",
       "2        High      High    Overweight  Moderate (6-15)  \n",
       "3        High    Normal    Overweight       Non-smoker  \n",
       "4        High   Optimal    Overweight    Heavy (16-25)  "
      ]
     },
     "execution_count": 4,
     "metadata": {},
     "output_type": "execute_result"
    }
   ],
   "source": [
    "df.head()"
   ]
  },
  {
   "cell_type": "code",
   "execution_count": 5,
   "metadata": {},
   "outputs": [
    {
     "data": {
      "text/plain": [
       "(5209, 18)"
      ]
     },
     "execution_count": 5,
     "metadata": {},
     "output_type": "execute_result"
    }
   ],
   "source": [
    "df.shape"
   ]
  },
  {
   "cell_type": "code",
   "execution_count": 6,
   "metadata": {},
   "outputs": [
    {
     "data": {
      "text/plain": [
       "Index(['Unnamed: 0', 'Status', 'DeathCause', 'AgeCHDdiag', 'Sex', 'AgeAtStart',\n",
       "       'Height', 'Weight', 'Diastolic', 'Systolic', 'MRW', 'Smoking',\n",
       "       'AgeAtDeath', 'Cholesterol', 'Chol_Status', 'BP_Status',\n",
       "       'Weight_Status', 'Smoking_Status'],\n",
       "      dtype='object')"
      ]
     },
     "execution_count": 6,
     "metadata": {},
     "output_type": "execute_result"
    }
   ],
   "source": [
    "df.columns"
   ]
  },
  {
   "cell_type": "markdown",
   "metadata": {},
   "source": [
    "# 2 Exploratory Data Analysis"
   ]
  },
  {
   "cell_type": "raw",
   "metadata": {},
   "source": [
    "Finding Missing Values in Data"
   ]
  },
  {
   "cell_type": "code",
   "execution_count": 7,
   "metadata": {},
   "outputs": [
    {
     "name": "stdout",
     "output_type": "stream",
     "text": [
      "The total percentage of missing values are 203.42%\n"
     ]
    }
   ],
   "source": [
    "missing_values = df.isnull().sum()\n",
    "total_percentage = (missing_values.sum()/df.shape[0]) * 100\n",
    "print(f'The total percentage of missing values are {round(total_percentage,2)}%')"
   ]
  },
  {
   "cell_type": "code",
   "execution_count": 8,
   "metadata": {},
   "outputs": [
    {
     "data": {
      "text/html": [
       "<div>\n",
       "<style scoped>\n",
       "    .dataframe tbody tr th:only-of-type {\n",
       "        vertical-align: middle;\n",
       "    }\n",
       "\n",
       "    .dataframe tbody tr th {\n",
       "        vertical-align: top;\n",
       "    }\n",
       "\n",
       "    .dataframe thead th {\n",
       "        text-align: right;\n",
       "    }\n",
       "</style>\n",
       "<table border=\"1\" class=\"dataframe\">\n",
       "  <thead>\n",
       "    <tr style=\"text-align: right;\">\n",
       "      <th></th>\n",
       "      <th>Total</th>\n",
       "      <th>Percentage</th>\n",
       "    </tr>\n",
       "  </thead>\n",
       "  <tbody>\n",
       "    <tr>\n",
       "      <th>AgeCHDdiag</th>\n",
       "      <td>3760</td>\n",
       "      <td>72.182761</td>\n",
       "    </tr>\n",
       "    <tr>\n",
       "      <th>AgeAtDeath</th>\n",
       "      <td>3218</td>\n",
       "      <td>61.777692</td>\n",
       "    </tr>\n",
       "    <tr>\n",
       "      <th>DeathCause</th>\n",
       "      <td>3218</td>\n",
       "      <td>61.777692</td>\n",
       "    </tr>\n",
       "    <tr>\n",
       "      <th>Chol_Status</th>\n",
       "      <td>152</td>\n",
       "      <td>2.918026</td>\n",
       "    </tr>\n",
       "    <tr>\n",
       "      <th>Cholesterol</th>\n",
       "      <td>152</td>\n",
       "      <td>2.918026</td>\n",
       "    </tr>\n",
       "    <tr>\n",
       "      <th>Smoking_Status</th>\n",
       "      <td>36</td>\n",
       "      <td>0.691112</td>\n",
       "    </tr>\n",
       "    <tr>\n",
       "      <th>Smoking</th>\n",
       "      <td>36</td>\n",
       "      <td>0.691112</td>\n",
       "    </tr>\n",
       "    <tr>\n",
       "      <th>MRW</th>\n",
       "      <td>6</td>\n",
       "      <td>0.115185</td>\n",
       "    </tr>\n",
       "    <tr>\n",
       "      <th>Weight_Status</th>\n",
       "      <td>6</td>\n",
       "      <td>0.115185</td>\n",
       "    </tr>\n",
       "    <tr>\n",
       "      <th>Weight</th>\n",
       "      <td>6</td>\n",
       "      <td>0.115185</td>\n",
       "    </tr>\n",
       "    <tr>\n",
       "      <th>Height</th>\n",
       "      <td>6</td>\n",
       "      <td>0.115185</td>\n",
       "    </tr>\n",
       "  </tbody>\n",
       "</table>\n",
       "</div>"
      ],
      "text/plain": [
       "                Total  Percentage\n",
       "AgeCHDdiag       3760   72.182761\n",
       "AgeAtDeath       3218   61.777692\n",
       "DeathCause       3218   61.777692\n",
       "Chol_Status       152    2.918026\n",
       "Cholesterol       152    2.918026\n",
       "Smoking_Status     36    0.691112\n",
       "Smoking            36    0.691112\n",
       "MRW                 6    0.115185\n",
       "Weight_Status       6    0.115185\n",
       "Weight              6    0.115185\n",
       "Height              6    0.115185"
      ]
     },
     "execution_count": 8,
     "metadata": {},
     "output_type": "execute_result"
    }
   ],
   "source": [
    "# percentage of missing values per category\n",
    "total = df.isnull().sum().sort_values(ascending=False)\n",
    "percent_total = (df.isnull().sum()/df.isnull().count()).sort_values(ascending=False)*100\n",
    "missing = pd.concat([total, percent_total], axis=1, keys=[\"Total\", \"Percentage\"])\n",
    "missing_data = missing[missing['Total']>0]\n",
    "missing_data"
   ]
  },
  {
   "cell_type": "raw",
   "metadata": {},
   "source": [
    "We can see above: There is Huge NAN values are present under three attributes:AgeCHDdiag,AgeAtDeath,DeathCause.\n",
    "Hence for now ,these coloumns can be dropped.As our objective is to find the Coronary Heart Diseses Development in Next ten Years."
   ]
  },
  {
   "cell_type": "markdown",
   "metadata": {},
   "source": [
    "# 2.1. Data Cleaning: Handle NA values"
   ]
  },
  {
   "cell_type": "code",
   "execution_count": 9,
   "metadata": {},
   "outputs": [
    {
     "data": {
      "text/plain": [
       "(5209, 15)"
      ]
     },
     "execution_count": 9,
     "metadata": {},
     "output_type": "execute_result"
    }
   ],
   "source": [
    "df1 = df.drop(['AgeCHDdiag','AgeAtDeath','DeathCause',],axis='columns')\n",
    "df1.shape"
   ]
  },
  {
   "cell_type": "code",
   "execution_count": 10,
   "metadata": {},
   "outputs": [
    {
     "data": {
      "text/plain": [
       "Unnamed: 0          0\n",
       "Status              0\n",
       "Sex                 0\n",
       "AgeAtStart          0\n",
       "Height              6\n",
       "Weight              6\n",
       "Diastolic           0\n",
       "Systolic            0\n",
       "MRW                 6\n",
       "Smoking            36\n",
       "Cholesterol       152\n",
       "Chol_Status       152\n",
       "BP_Status           0\n",
       "Weight_Status       6\n",
       "Smoking_Status     36\n",
       "dtype: int64"
      ]
     },
     "execution_count": 10,
     "metadata": {},
     "output_type": "execute_result"
    }
   ],
   "source": [
    "df1.isnull().sum()"
   ]
  },
  {
   "cell_type": "code",
   "execution_count": 11,
   "metadata": {},
   "outputs": [
    {
     "data": {
      "text/plain": [
       "(5039, 15)"
      ]
     },
     "execution_count": 11,
     "metadata": {},
     "output_type": "execute_result"
    }
   ],
   "source": [
    "df1.dropna(axis=0, inplace=True)\n",
    "df1.shape"
   ]
  },
  {
   "cell_type": "markdown",
   "metadata": {},
   "source": [
    "# 2.2 Data Analysis"
   ]
  },
  {
   "cell_type": "code",
   "execution_count": 12,
   "metadata": {},
   "outputs": [],
   "source": [
    "import seaborn as sns"
   ]
  },
  {
   "cell_type": "code",
   "execution_count": 13,
   "metadata": {},
   "outputs": [
    {
     "data": {
      "image/png": "[encoded data removed]",
      "text/plain": [
       "<Figure size 1080x432 with 1 Axes>"
      ]
     },
     "metadata": {
      "needs_background": "light"
     },
     "output_type": "display_data"
    }
   ],
   "source": [
    "plt.figure(figsize=(15,6))\n",
    "sns.countplot(x='Chol_Status',data = df1, hue = 'BP_Status',palette='husl')\n",
    "plt.show()"
   ]
  },
  {
   "cell_type": "raw",
   "metadata": {},
   "source": [
    "Graph Description: With Desirable Cholesterol Level ,There is Normal BP\n",
    "                 & With High Cholestrol Level leads to High BP \n",
    "                 & interestingly with Borderline Cholestrol level there is no difference between High and Normal BP"
   ]
  },
  {
   "cell_type": "code",
   "execution_count": 14,
   "metadata": {},
   "outputs": [
    {
     "data": {
      "image/png": "[encoded data removed]",
      "text/plain": [
       "<Figure size 1080x432 with 1 Axes>"
      ]
     },
     "metadata": {
      "needs_background": "light"
     },
     "output_type": "display_data"
    }
   ],
   "source": [
    "plt.figure(figsize=(15,6))\n",
    "sns.countplot(x='Smoking_Status',data = df1, hue = 'Chol_Status',palette='husl')\n",
    "plt.show()"
   ]
  },
  {
   "cell_type": "raw",
   "metadata": {},
   "source": [
    "Graph Description:There Is no conclusive status while taking These two attributes."
   ]
  },
  {
   "cell_type": "code",
   "execution_count": 15,
   "metadata": {},
   "outputs": [
    {
     "data": {
      "image/png": "[encoded data removed]",
      "text/plain": [
       "<Figure size 1080x432 with 1 Axes>"
      ]
     },
     "metadata": {
      "needs_background": "light"
     },
     "output_type": "display_data"
    }
   ],
   "source": [
    "plt.figure(figsize=(15,6))\n",
    "sns.countplot(x='Chol_Status',data = df1, hue = 'Sex',palette='husl')\n",
    "plt.show()"
   ]
  },
  {
   "cell_type": "raw",
   "metadata": {},
   "source": [
    "Graph Description:We could see difference of High Cholestrol Status in Female than Male"
   ]
  },
  {
   "cell_type": "code",
   "execution_count": 16,
   "metadata": {},
   "outputs": [
    {
     "data": {
      "image/png": "[encoded data removed]",
      "text/plain": [
       "<Figure size 1080x576 with 2 Axes>"
      ]
     },
     "metadata": {
      "needs_background": "light"
     },
     "output_type": "display_data"
    }
   ],
   "source": [
    "plt.figure(figsize=(15,8))\n",
    "sns.heatmap(df1.corr(), annot = True)\n",
    "plt.show()"
   ]
  },
  {
   "cell_type": "raw",
   "metadata": {},
   "source": [
    "Also there are a couple of features that are highly correlated with one another and it makes no sense to use both of them in building a machine learning model. These incluse: MRW and Weight; systolic and diastolic blood pressures;  Therefore we need to carry out feature selection to pick the best fetaure"
   ]
  },
  {
   "cell_type": "code",
   "execution_count": null,
   "metadata": {},
   "outputs": [],
   "source": []
  }
 ],
 "metadata": {
  "kernelspec": {
   "display_name": "Python 3",
   "language": "python",
   "name": "python3"
  },
  "language_info": {
   "codemirror_mode": {
    "name": "ipython",
    "version": 3
   },
   "file_extension": ".py",
   "mimetype": "text/x-python",
   "name": "python",
   "nbconvert_exporter": "python",
   "pygments_lexer": "ipython3",
   "version": "3.8.5"
  }
 },
 "nbformat": 4,
 "nbformat_minor": 4
}
